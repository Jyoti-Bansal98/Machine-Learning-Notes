{
 "cells": [
  {
   "cell_type": "code",
   "execution_count": 1,
   "id": "531d3460-bcc7-480b-80a8-3422a730805b",
   "metadata": {},
   "outputs": [],
   "source": [
    "from sklearn import metrics"
   ]
  },
  {
   "cell_type": "code",
   "execution_count": 2,
   "id": "e64df8cf-6d24-470e-99c0-7affc8d783ca",
   "metadata": {},
   "outputs": [],
   "source": [
    "C = 'Cat'\n",
    "D = 'Dog'\n",
    "F = 'Fox'"
   ]
  },
  {
   "cell_type": "code",
   "execution_count": 3,
   "id": "a53b1d1a-bb88-4df0-98a6-9be8bf914f0b",
   "metadata": {},
   "outputs": [
    {
     "name": "stdout",
     "output_type": "stream",
     "text": [
      "[[4 1 1]\n",
      " [3 6 0]\n",
      " [6 2 2]]\n",
      "              precision    recall  f1-score   support\n",
      "\n",
      "         Cat      0.308     0.667     0.421         6\n",
      "         Dog      0.667     0.667     0.667         9\n",
      "         Fox      0.667     0.200     0.308        10\n",
      "\n",
      "    accuracy                          0.480        25\n",
      "   macro avg      0.547     0.511     0.465        25\n",
      "weighted avg      0.581     0.480     0.464        25\n",
      "\n"
     ]
    }
   ],
   "source": [
    "# True values\n",
    "y_true = [C,C,C,C,C,C, F,F,F,F,F,F,F,F,F,F, D,D,D,D,D,D,D,D,D]\n",
    "\n",
    "# PREDICTED VALUES\n",
    "y_pred = [C,C,C,C,D,F, C,C,C,C,C,C,D,D,F,F, C,C,C,D,D,D,D,D,D]\n",
    "\n",
    "# print the confusion marix\n",
    "print(metrics.confusion_matrix(y_true, y_pred))\n",
    "\n",
    "# print the precision and recall, among other metrics\n",
    "print(metrics.classification_report(y_true, y_pred, digits = 3))"
   ]
  },
  {
   "cell_type": "raw",
   "id": "02c30048-6d21-4c59-8111-9d741cd9029a",
   "metadata": {},
   "source": [
    "Accuracy in multiclass will be (sum of diagonal elements / sum of all other elements)\n",
    "\n",
    "the precision: for cat class is the number of correctly predicted cat out of all predicted cat.\n",
    "\n",
    "the recall: for cat is the number of correctly predicted cat photos of the number of actual cat."
   ]
  },
  {
   "cell_type": "code",
   "execution_count": null,
   "id": "ca065311-6439-4989-81b2-7ecd8e467876",
   "metadata": {},
   "outputs": [],
   "source": []
  }
 ],
 "metadata": {
  "kernelspec": {
   "display_name": "Python 3 (ipykernel)",
   "language": "python",
   "name": "python3"
  },
  "language_info": {
   "codemirror_mode": {
    "name": "ipython",
    "version": 3
   },
   "file_extension": ".py",
   "mimetype": "text/x-python",
   "name": "python",
   "nbconvert_exporter": "python",
   "pygments_lexer": "ipython3",
   "version": "3.13.5"
  }
 },
 "nbformat": 4,
 "nbformat_minor": 5
}
